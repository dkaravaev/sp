{
 "cells": [
  {
   "cell_type": "code",
   "execution_count": 2,
   "metadata": {
    "collapsed": true
   },
   "outputs": [],
   "source": [
    "from PIL import Image\n",
    "import numpy as np"
   ]
  },
  {
   "cell_type": "code",
   "execution_count": 3,
   "metadata": {
    "collapsed": true
   },
   "outputs": [],
   "source": [
    "def kmeans(X, k, n, metric):\n",
    "    # array with cluster indexes for each point\n",
    "    clusters = np.zeros(X.shape[0])\n",
    "    # array with centroids: (mass center, number of elements in cluster)\n",
    "    centroids = [(X[i], 0) for i in np.random.randint(X.shape[0], size=k)]\n",
    "    \n",
    "    # begin iterations\n",
    "    for i in xrange(n):\n",
    "        # create blank centroids\n",
    "        newcentroids = [(np.zeros(X.shape[1]), 0)] * k\n",
    "        \n",
    "        # assign each point a cluster and calc new centroids\n",
    "        for j in xrange(X.shape[0]):\n",
    "            cluster_index = np.argmin([metric(c, X[j]) for c in centroids])\n",
    "            clusters[j] = cluster_index\n",
    "            \n",
    "            newcentroids[cluster_index][0] += X[j]\n",
    "            newcentroids[cluster_index][1] += 1\n",
    "         \n",
    "        diff = False\n",
    "        # assign new values of centoids\n",
    "        for j in xrange(k):\n",
    "            newcentroids[j][0] /= newcentroids[j][1]\n",
    "            \n",
    "            if centroids[j][0] != newcentroids[j][0]:\n",
    "                diff = True\n",
    "                \n",
    "            centroids[j] = newcentroids[j]\n",
    "        \n",
    "        # if new centroids doesn't differ with original - end \n",
    "        if not diff:\n",
    "            return clusters, centroids\n",
    "    \n",
    "    return clusters, centroids"
   ]
  },
  {
   "cell_type": "code",
   "execution_count": null,
   "metadata": {
    "collapsed": true
   },
   "outputs": [],
   "source": [
    "def compress(input_image, k, n):\n",
    "    img_matrix = input_image.reshape((input_image.shape[0] *  input_image.shape[1]), input_image.shape[2])\n",
    "    clusters, centroids = kmeans(img_matrix, k, n, np.linalg.norm)\n",
    "    \n",
    "    ouput_image = np.zeros(img_matrix.shape)\n",
    "    for i in xrange(img_matrix.shape[0]):\n",
    "        ouput_image[i] = centroids[clusters[i]][0]\n",
    "        \n",
    "    return ouput_image.reshape(input_image.shape)"
   ]
  },
  {
   "cell_type": "code",
   "execution_count": null,
   "metadata": {
    "collapsed": true
   },
   "outputs": [],
   "source": [
    "input_image = np.asarray(Image.open('peppers.jpg'))\n",
    "\n"
   ]
  }
 ],
 "metadata": {
  "anaconda-cloud": {},
  "kernelspec": {
   "display_name": "Python [default]",
   "language": "python",
   "name": "python2"
  },
  "language_info": {
   "codemirror_mode": {
    "name": "ipython",
    "version": 2
   },
   "file_extension": ".py",
   "mimetype": "text/x-python",
   "name": "python",
   "nbconvert_exporter": "python",
   "pygments_lexer": "ipython2",
   "version": "2.7.12"
  }
 },
 "nbformat": 4,
 "nbformat_minor": 1
}
